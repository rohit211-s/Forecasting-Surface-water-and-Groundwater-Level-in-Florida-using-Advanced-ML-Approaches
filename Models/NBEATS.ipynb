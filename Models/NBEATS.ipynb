{
 "cells": [
  {
   "cell_type": "code",
   "execution_count": 1,
   "id": "02963e97",
   "metadata": {},
   "outputs": [],
   "source": [
    "# MASE implemented courtesy of sktime - https://github.com/alan-turing-institute/sktime/blob/ee7a06843a44f4aaec7582d847e36073a9ab0566/sktime/performance_metrics/forecasting/_functions.py#L16\n",
    "def mean_absolute_scaled_error(y_true, y_pred):\n",
    "  \"\"\"\n",
    "  Implement MASE (assuming no seasonality of data).\n",
    "  \"\"\"\n",
    "  mae = tf.reduce_mean(tf.abs(y_true - y_pred))\n",
    "\n",
    "\n",
    "  return mae\n"
   ]
  },
  {
   "cell_type": "code",
   "execution_count": 2,
   "id": "8c9d3987",
   "metadata": {},
   "outputs": [],
   "source": [
    "def evaluate_preds(y_true, y_pred):\n",
    "  # Make sure float32 (for metric calculations)\n",
    "  y_true = tf.cast(y_true, dtype=tf.float32)\n",
    "  y_pred = tf.cast(y_pred, dtype=tf.float32)\n",
    "\n",
    "  mse = tf.keras.metrics.mean_squared_error(y_true, y_pred) # puts and emphasis on outliers (all errors get squared)\n",
    "  rmse = tf.sqrt(mse)\n",
    "  nrmse = rmse / tf.reduce_mean(y_true)\n",
    "  nse = 1 - (tf.reduce_sum(tf.square(y_true - y_pred)) / tf.reduce_sum(tf.square(y_true - tf.reduce_mean(y_true))))\n",
    "\n",
    "  return {\n",
    "          \"mse\": mse.numpy(),\n",
    "          \"rmse\": rmse.numpy(),\n",
    "          \"nrmse\": nrmse.numpy(),\n",
    "          \"nse\": nse.numpy()\n",
    "         }\n"
   ]
  },
  {
   "cell_type": "code",
   "execution_count": 3,
   "id": "aaa030a6",
   "metadata": {},
   "outputs": [],
   "source": [
    "\n",
    "def make_preds(model, input_data):\n",
    "  \"\"\"\n",
    "  Uses model to make predictions on input_data.\n",
    "\n",
    "  Parameters\n",
    "  ----------\n",
    "  model: trained model\n",
    "  input_data: windowed input data (same kind of data model was trained on)\n",
    "\n",
    "  Returns model predictions on input_data.\n",
    "  \"\"\"\n",
    "  forecast = model.predict(input_data)\n",
    "  return tf.squeeze(forecast) # return 1D array of predictions\n"
   ]
  },
  {
   "cell_type": "code",
   "execution_count": 4,
   "id": "4ba9e7cb",
   "metadata": {},
   "outputs": [],
   "source": [
    "# Create a function to plot time series data\n",
    "def plot_time_series(timesteps, values, format='.', start=0, end=None, label=None):\n",
    "  \"\"\"\n",
    "  Plots a timesteps (a series of points in time) against values (a series of values across timesteps).\n",
    "\n",
    "  Parameters\n",
    "  ---------\n",
    "  timesteps : array of timesteps\n",
    "  values : array of values across time\n",
    "  format : style of plot, default \".\"\n",
    "  start : where to start the plot (setting a value will index from start of timesteps & values)\n",
    "  end : where to end the plot (setting a value will index from end of timesteps & values)\n",
    "  label : label to show on plot of values\n",
    "  \"\"\"\n",
    "  # Plot the series\n",
    "  plt.plot(timesteps[start:end], values[start:end], format, label=label)\n",
    "  plt.xlabel(\"Time\")\n",
    "  plt.ylabel(\"BTC Price\")\n",
    "  if label:\n",
    "    plt.legend(fontsize=14) # make label bigger\n",
    "  plt.grid(True)\n"
   ]
  },
  {
   "cell_type": "code",
   "execution_count": null,
   "id": "f55683f2",
   "metadata": {},
   "outputs": [],
   "source": []
  },
  {
   "cell_type": "code",
   "execution_count": 13,
   "id": "04299107",
   "metadata": {},
   "outputs": [],
   "source": [
    "\n",
    "# Create NBeatsBlock custom layer\n",
    "class NBeatsBlock(tf.keras.layers.Layer):\n",
    "  def __init__(self, # the constructor takes all the hyperparameters for the layer\n",
    "               input_size: int,\n",
    "               theta_size: int,\n",
    "               horizon: int,\n",
    "               n_neurons: int,\n",
    "               n_layers: int,\n",
    "               **kwargs): # the **kwargs argument takes care of all of the arguments for the parent class (input_shape, trainable, name)\n",
    "    super().__init__(**kwargs)\n",
    "    self.input_size = input_size\n",
    "    self.theta_size = theta_size\n",
    "    self.horizon = horizon\n",
    "    self.n_neurons = n_neurons\n",
    "    self.n_layers = n_layers\n",
    "\n",
    "    # Block contains stack of 4 fully connected layers each has ReLU activation\n",
    "    self.hidden = [tf.keras.layers.Dense(n_neurons, activation=\"relu\") for _ in range(n_layers)]\n",
    "    # Output of block is a theta layer with linear activation\n",
    "    self.theta_layer = tf.keras.layers.Dense(theta_size, activation=\"linear\", name=\"theta\")\n",
    "\n",
    "  def call(self, inputs): # the call method is what runs when the layer is called\n",
    "    x = inputs\n",
    "    for layer in self.hidden: # pass inputs through each hidden layer\n",
    "      x = layer(x)\n",
    "    theta = self.theta_layer(x)\n",
    "    # Output the backcast and forecast from theta\n",
    "    backcast, forecast = theta[:, :self.input_size], theta[:, -self.horizon:]\n",
    "    return backcast, forecast"
   ]
  },
  {
   "cell_type": "code",
   "execution_count": 14,
   "id": "f1218cbf",
   "metadata": {},
   "outputs": [],
   "source": [
    "HORIZON = 1 # how far to predict forward\n",
    "WINDOW_SIZE = 1 # how far to lookback"
   ]
  },
  {
   "cell_type": "code",
   "execution_count": 15,
   "id": "91acfa55",
   "metadata": {},
   "outputs": [
    {
     "data": {
      "text/html": [
       "<div>\n",
       "<style scoped>\n",
       "    .dataframe tbody tr th:only-of-type {\n",
       "        vertical-align: middle;\n",
       "    }\n",
       "\n",
       "    .dataframe tbody tr th {\n",
       "        vertical-align: top;\n",
       "    }\n",
       "\n",
       "    .dataframe thead th {\n",
       "        text-align: right;\n",
       "    }\n",
       "</style>\n",
       "<table border=\"1\" class=\"dataframe\">\n",
       "  <thead>\n",
       "    <tr style=\"text-align: right;\">\n",
       "      <th></th>\n",
       "      <th>Discharge</th>\n",
       "      <th>Discharge+1</th>\n",
       "    </tr>\n",
       "    <tr>\n",
       "      <th>Daily Date</th>\n",
       "      <th></th>\n",
       "      <th></th>\n",
       "    </tr>\n",
       "  </thead>\n",
       "  <tbody>\n",
       "    <tr>\n",
       "      <th>2001-01-02</th>\n",
       "      <td>799.0</td>\n",
       "      <td>720.0</td>\n",
       "    </tr>\n",
       "    <tr>\n",
       "      <th>2001-01-03</th>\n",
       "      <td>871.0</td>\n",
       "      <td>799.0</td>\n",
       "    </tr>\n",
       "    <tr>\n",
       "      <th>2001-01-04</th>\n",
       "      <td>889.0</td>\n",
       "      <td>871.0</td>\n",
       "    </tr>\n",
       "    <tr>\n",
       "      <th>2001-01-05</th>\n",
       "      <td>845.0</td>\n",
       "      <td>889.0</td>\n",
       "    </tr>\n",
       "    <tr>\n",
       "      <th>2001-01-06</th>\n",
       "      <td>771.0</td>\n",
       "      <td>845.0</td>\n",
       "    </tr>\n",
       "  </tbody>\n",
       "</table>\n",
       "</div>"
      ],
      "text/plain": [
       "            Discharge  Discharge+1\n",
       "Daily Date                        \n",
       "2001-01-02      799.0        720.0\n",
       "2001-01-03      871.0        799.0\n",
       "2001-01-04      889.0        871.0\n",
       "2001-01-05      845.0        889.0\n",
       "2001-01-06      771.0        845.0"
      ]
     },
     "execution_count": 15,
     "metadata": {},
     "output_type": "execute_result"
    }
   ],
   "source": [
    "for i in range(WINDOW_SIZE):\n",
    "  df[f\"Discharge+{i+1}\"] = df[\"Discharge\"].shift(periods=i+1)\n",
    "df.dropna().head()"
   ]
  },
  {
   "cell_type": "code",
   "execution_count": 16,
   "id": "d52d4f5c",
   "metadata": {},
   "outputs": [
    {
     "data": {
      "text/html": [
       "<div>\n",
       "<style scoped>\n",
       "    .dataframe tbody tr th:only-of-type {\n",
       "        vertical-align: middle;\n",
       "    }\n",
       "\n",
       "    .dataframe tbody tr th {\n",
       "        vertical-align: top;\n",
       "    }\n",
       "\n",
       "    .dataframe thead th {\n",
       "        text-align: right;\n",
       "    }\n",
       "</style>\n",
       "<table border=\"1\" class=\"dataframe\">\n",
       "  <thead>\n",
       "    <tr style=\"text-align: right;\">\n",
       "      <th></th>\n",
       "      <th>Discharge</th>\n",
       "      <th>Discharge+1</th>\n",
       "    </tr>\n",
       "    <tr>\n",
       "      <th>Daily Date</th>\n",
       "      <th></th>\n",
       "      <th></th>\n",
       "    </tr>\n",
       "  </thead>\n",
       "  <tbody>\n",
       "    <tr>\n",
       "      <th>2001-01-02</th>\n",
       "      <td>799.0</td>\n",
       "      <td>720.0</td>\n",
       "    </tr>\n",
       "    <tr>\n",
       "      <th>2001-01-03</th>\n",
       "      <td>871.0</td>\n",
       "      <td>799.0</td>\n",
       "    </tr>\n",
       "    <tr>\n",
       "      <th>2001-01-04</th>\n",
       "      <td>889.0</td>\n",
       "      <td>871.0</td>\n",
       "    </tr>\n",
       "    <tr>\n",
       "      <th>2001-01-05</th>\n",
       "      <td>845.0</td>\n",
       "      <td>889.0</td>\n",
       "    </tr>\n",
       "    <tr>\n",
       "      <th>2001-01-06</th>\n",
       "      <td>771.0</td>\n",
       "      <td>845.0</td>\n",
       "    </tr>\n",
       "    <tr>\n",
       "      <th>...</th>\n",
       "      <td>...</td>\n",
       "      <td>...</td>\n",
       "    </tr>\n",
       "    <tr>\n",
       "      <th>2023-05-27</th>\n",
       "      <td>1680.0</td>\n",
       "      <td>1750.0</td>\n",
       "    </tr>\n",
       "    <tr>\n",
       "      <th>2023-05-28</th>\n",
       "      <td>1460.0</td>\n",
       "      <td>1680.0</td>\n",
       "    </tr>\n",
       "    <tr>\n",
       "      <th>2023-05-29</th>\n",
       "      <td>1250.0</td>\n",
       "      <td>1460.0</td>\n",
       "    </tr>\n",
       "    <tr>\n",
       "      <th>2023-05-30</th>\n",
       "      <td>1090.0</td>\n",
       "      <td>1250.0</td>\n",
       "    </tr>\n",
       "    <tr>\n",
       "      <th>2023-05-31</th>\n",
       "      <td>940.0</td>\n",
       "      <td>1090.0</td>\n",
       "    </tr>\n",
       "  </tbody>\n",
       "</table>\n",
       "<p>8185 rows × 2 columns</p>\n",
       "</div>"
      ],
      "text/plain": [
       "            Discharge  Discharge+1\n",
       "Daily Date                        \n",
       "2001-01-02      799.0        720.0\n",
       "2001-01-03      871.0        799.0\n",
       "2001-01-04      889.0        871.0\n",
       "2001-01-05      845.0        889.0\n",
       "2001-01-06      771.0        845.0\n",
       "...               ...          ...\n",
       "2023-05-27     1680.0       1750.0\n",
       "2023-05-28     1460.0       1680.0\n",
       "2023-05-29     1250.0       1460.0\n",
       "2023-05-30     1090.0       1250.0\n",
       "2023-05-31      940.0       1090.0\n",
       "\n",
       "[8185 rows x 2 columns]"
      ]
     },
     "execution_count": 16,
     "metadata": {},
     "output_type": "execute_result"
    }
   ],
   "source": [
    "df=df.filter(['Discharge','Discharge+1'],axis=1)\n",
    "df=df[1:]\n",
    "df"
   ]
  },
  {
   "cell_type": "code",
   "execution_count": 17,
   "id": "2fa62f26",
   "metadata": {},
   "outputs": [
    {
     "data": {
      "text/plain": [
       "(6548, 6548, 1637, 1637)"
      ]
     },
     "execution_count": 17,
     "metadata": {},
     "output_type": "execute_result"
    }
   ],
   "source": [
    "\n",
    "# Make features and labels\n",
    "X = df.dropna().drop(\"Discharge\", axis=1)\n",
    "y = df.dropna()[\"Discharge\"]\n",
    "\n",
    "# Make train and test sets\n",
    "split_size = int(len(X) * 0.8)\n",
    "X_train, y_train = X[:split_size], y[:split_size]\n",
    "X_test, y_test = X[split_size:], y[split_size:]\n",
    "len(X_train), len(y_train), len(X_test), len(y_test)"
   ]
  },
  {
   "cell_type": "code",
   "execution_count": 18,
   "id": "1630b617",
   "metadata": {},
   "outputs": [
    {
     "data": {
      "text/plain": [
       "(<_PrefetchDataset element_spec=(TensorSpec(shape=(None, 1), dtype=tf.float64, name=None), TensorSpec(shape=(None,), dtype=tf.float64, name=None))>,\n",
       " <_PrefetchDataset element_spec=(TensorSpec(shape=(None, 1), dtype=tf.float64, name=None), TensorSpec(shape=(None,), dtype=tf.float64, name=None))>)"
      ]
     },
     "execution_count": 18,
     "metadata": {},
     "output_type": "execute_result"
    }
   ],
   "source": [
    "# 1. Turn train and test arrays into tensor Datasets\n",
    "train_features_dataset = tf.data.Dataset.from_tensor_slices(X_train)\n",
    "train_labels_dataset = tf.data.Dataset.from_tensor_slices(y_train)\n",
    "\n",
    "test_features_dataset = tf.data.Dataset.from_tensor_slices(X_test)\n",
    "test_labels_dataset = tf.data.Dataset.from_tensor_slices(y_test)\n",
    "\n",
    "# 2. Combine features & labels\n",
    "train_dataset = tf.data.Dataset.zip((train_features_dataset, train_labels_dataset))\n",
    "test_dataset = tf.data.Dataset.zip((test_features_dataset, test_labels_dataset))\n",
    "\n",
    "# 3. Batch and prefetch for optimal performance\n",
    "BATCH_SIZE = 1024 # taken from Appendix D in N-BEATS paper\n",
    "train_dataset = train_dataset.batch(BATCH_SIZE).prefetch(tf.data.AUTOTUNE)\n",
    "test_dataset = test_dataset.batch(BATCH_SIZE).prefetch(tf.data.AUTOTUNE)\n",
    "\n",
    "train_dataset, test_dataset"
   ]
  },
  {
   "cell_type": "code",
   "execution_count": 19,
   "id": "303a1e71",
   "metadata": {},
   "outputs": [
    {
     "data": {
      "text/plain": [
       "(1, 2)"
      ]
     },
     "execution_count": 19,
     "metadata": {},
     "output_type": "execute_result"
    }
   ],
   "source": [
    "# Values from N-BEATS paper Figure 1 and Table 18/Appendix D\n",
    "N_EPOCHS = 5000 # called \"Iterations\" in Table 18\n",
    "N_NEURONS = 512 # called \"Width\" in Table 18\n",
    "N_LAYERS =3\n",
    "N_STACKS =2\n",
    "\n",
    "INPUT_SIZE = WINDOW_SIZE * HORIZON # called \"Lookback\" in Table 18\n",
    "THETA_SIZE = INPUT_SIZE + HORIZON\n",
    "\n",
    "INPUT_SIZE, THETA_SIZE"
   ]
  },
  {
   "cell_type": "code",
   "execution_count": 20,
   "id": "77fc8a04",
   "metadata": {},
   "outputs": [],
   "source": [
    "import tensorflow as tf\n",
    "from tensorflow.keras import layers"
   ]
  },
  {
   "cell_type": "code",
   "execution_count": 21,
   "id": "8beec6ab",
   "metadata": {},
   "outputs": [
    {
     "name": "stdout",
     "output_type": "stream",
     "text": [
      "\n",
      "Epoch 269: ReduceLROnPlateau reducing learning rate to 0.00010000000474974513.\n",
      "\n",
      "Epoch 1032: ReduceLROnPlateau reducing learning rate to 1.0000000474974514e-05.\n",
      "\n",
      "Epoch 1132: ReduceLROnPlateau reducing learning rate to 1.0000000656873453e-06.\n",
      "CPU times: user 21min 7s, sys: 1min 31s, total: 22min 39s\n",
      "Wall time: 22min 13s\n"
     ]
    },
    {
     "data": {
      "text/plain": [
       "<keras.src.callbacks.History at 0x2930d1d50>"
      ]
     },
     "execution_count": 21,
     "metadata": {},
     "output_type": "execute_result"
    }
   ],
   "source": [
    "\n",
    " %%time\n",
    "\n",
    "tf.random.set_seed(42)\n",
    "\n",
    "# 1. Setup N-BEATS Block layer\n",
    "nbeats_block_layer = NBeatsBlock(input_size=INPUT_SIZE,\n",
    "                                 theta_size=THETA_SIZE,\n",
    "                                 horizon=HORIZON,\n",
    "                                 n_neurons=N_NEURONS,\n",
    "                                 n_layers=N_LAYERS,\n",
    "                                 name=\"InitialBlock\")\n",
    "\n",
    "# 2. Create input to stacks\n",
    "stack_input = layers.Input(shape=(INPUT_SIZE), name=\"stack_input\")\n",
    "\n",
    "# 3. Create initial backcast and forecast input (backwards predictions are referred to as residuals in the paper)\n",
    "backcast, forecast = nbeats_block_layer(stack_input)\n",
    "# Add in subtraction residual link, thank you to: https://github.com/mrdbourke/tensorflow-deep-learning/discussions/174\n",
    "residuals = layers.subtract([stack_input, backcast], name=f\"subtract_00\")\n",
    "\n",
    "# 4. Create stacks of blocks\n",
    "for i, _ in enumerate(range(N_STACKS-1)): # first stack is already creted in (3)\n",
    "\n",
    "  # 5. Use the NBeatsBlock to calculate the backcast as well as block forecast\n",
    "  backcast, block_forecast = NBeatsBlock(\n",
    "      input_size=INPUT_SIZE,\n",
    "      theta_size=THETA_SIZE,\n",
    "      horizon=HORIZON,\n",
    "      n_neurons=N_NEURONS,\n",
    "      n_layers=N_LAYERS,\n",
    "      name=f\"NBeatsBlock_{i}\"\n",
    "  )(residuals) # pass it in residuals (the backcast)\n",
    "\n",
    "  # 6. Create the double residual stacking\n",
    "  residuals = layers.subtract([residuals, backcast], name=f\"subtract_{i}\")\n",
    "  forecast = layers.add([forecast, block_forecast], name=f\"add_{i}\")\n",
    "\n",
    "# 7. Put the stack model together\n",
    "model_10 = tf.keras.Model(inputs=stack_input,\n",
    "                         outputs=forecast,\n",
    "                         name=\"model_10_N-BEATS\")\n",
    "\n",
    "# 8. Compile with MAE loss and Adam optimizer\n",
    "model_10.compile(loss=\"mae\",\n",
    "                optimizer=tf.keras.optimizers.Adam(0.001),\n",
    "                metrics=[\"mae\", \"mse\"])\n",
    "\n",
    "# 9. Fit the model with EarlyStopping and ReduceLROnPlateau callbacks\n",
    "model_10.fit(train_dataset,\n",
    "            epochs=N_EPOCHS,\n",
    "            validation_data=test_dataset,\n",
    "            verbose=0, # prevent large amounts of training outputs\n",
    "            # callbacks=[create_model_checkpoint(model_name=stack_model.name)] # saving model every epoch consumes far too much time\n",
    "            callbacks=[tf.keras.callbacks.EarlyStopping(monitor=\"val_loss\", patience=200, restore_best_weights=True),\n",
    "                      tf.keras.callbacks.ReduceLROnPlateau(monitor=\"val_loss\", patience=100, verbose=1)])"
   ]
  },
  {
   "cell_type": "code",
   "execution_count": 22,
   "id": "0f00d9ce",
   "metadata": {},
   "outputs": [
    {
     "name": "stdout",
     "output_type": "stream",
     "text": [
      "2/2 [==============================] - 0s 26ms/step - loss: 125.8878 - mae: 125.8878 - mse: 100910.4297\n"
     ]
    },
    {
     "data": {
      "text/plain": [
       "[125.88784790039062, 125.88784790039062, 100910.4296875]"
      ]
     },
     "execution_count": 22,
     "metadata": {},
     "output_type": "execute_result"
    }
   ],
   "source": [
    "\n",
    "# Evaluate N-BEATS model on the test dataset\n",
    "model_10.evaluate(test_dataset)"
   ]
  },
  {
   "cell_type": "code",
   "execution_count": 23,
   "id": "855aa056",
   "metadata": {},
   "outputs": [
    {
     "name": "stdout",
     "output_type": "stream",
     "text": [
      "2/2 [==============================] - 0s 17ms/step\n"
     ]
    },
    {
     "data": {
      "text/plain": [
       "<tf.Tensor: shape=(10,), dtype=float32, numpy=\n",
       "array([11462.131 ,  9135.934 ,  6845.524 ,  5369.2827,  4429.857 ,\n",
       "        3758.8386,  3204.1267,  2747.8306,  2622.5728,  3418.8535],\n",
       "      dtype=float32)>"
      ]
     },
     "execution_count": 23,
     "metadata": {},
     "output_type": "execute_result"
    }
   ],
   "source": [
    "\n",
    "# Make predictions with N-BEATS model\n",
    "model_10_preds = make_preds(model_10, test_dataset)\n",
    "model_10_preds[:10]"
   ]
  },
  {
   "cell_type": "code",
   "execution_count": 24,
   "id": "e466c5dc",
   "metadata": {},
   "outputs": [
    {
     "data": {
      "text/plain": [
       "{'mse': 100910.43, 'rmse': 317.66403, 'nrmse': 0.3251861, 'nse': 0.93878585}"
      ]
     },
     "execution_count": 24,
     "metadata": {},
     "output_type": "execute_result"
    }
   ],
   "source": [
    "# Evaluate N-BEATS model predictions\n",
    "model_10_results = evaluate_preds(y_true=y_test,\n",
    "                                 y_pred=model_10_preds)\n",
    "model_10_results"
   ]
  },
  {
   "cell_type": "code",
   "execution_count": null,
   "id": "36964c78",
   "metadata": {},
   "outputs": [],
   "source": []
  }
 ],
 "metadata": {
  "kernelspec": {
   "display_name": "sample1",
   "language": "python",
   "name": "sample1"
  },
  "language_info": {
   "codemirror_mode": {
    "name": "ipython",
    "version": 3
   },
   "file_extension": ".py",
   "mimetype": "text/x-python",
   "name": "python",
   "nbconvert_exporter": "python",
   "pygments_lexer": "ipython3",
   "version": "3.10.13"
  }
 },
 "nbformat": 4,
 "nbformat_minor": 5
}
